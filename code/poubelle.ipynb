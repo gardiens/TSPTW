{
 "cells": [
  {
   "cell_type": "code",
   "execution_count": 15,
   "metadata": {},
   "outputs": [
    {
     "data": {
      "text/plain": [
       "[4, 2, 3, 1]"
      ]
     },
     "execution_count": 15,
     "metadata": {},
     "output_type": "execute_result"
    }
   ],
   "source": [
    "from random import sample\n",
    "L=[1,2,3,4]\n",
    "sample(L,4)\n"
   ]
  },
  {
   "cell_type": "code",
   "execution_count": null,
   "metadata": {},
   "outputs": [],
   "source": []
  },
  {
   "cell_type": "code",
   "execution_count": 3,
   "metadata": {},
   "outputs": [],
   "source": [
    "from classes import * \n",
    "from desscore import *\n",
    "from simulated_annealing_kOPT import *\n",
    "L=['35', '36', '66', '7', '88', '47', '18', '56', '12', '96', '76', '28', '17', '86', '94', '68', '51', '69', '5', '30', '80', '74', '95', '87', '62', '92', '57', '61', '4', '77', '82', '32', '10', '85', '91', '72', '20', '49', '39', '44', '46', '55', '78', '6', '43', '60', '90', '50', '8', '71', '37', '45', '54', '83', '98', '73', '21', '65', '58', '16', '26', '38', '11', '34', '19', '24', '75', '100', '48', '70', '79', '33', '29', '2', '81', '22', '15', '84', '53', '42', '40', '64', '13', '63', '67', '93', '89', '23', '27', '97', '14', '59', '99', '9', '41', '3', '25', '1', '101', '31', '52']\n",
    "instancename='data/inst_concours'\n",
    "modele=instance(instancename)\n"
   ]
  },
  {
   "cell_type": "code",
   "execution_count": 8,
   "metadata": {},
   "outputs": [
    {
     "name": "stdout",
     "output_type": "stream",
     "text": [
      "859.0\n",
      "943.0\n",
      "56\n"
     ]
    },
    {
     "data": {
      "text/plain": [
       "859.0"
      ]
     },
     "execution_count": 8,
     "metadata": {},
     "output_type": "execute_result"
    }
   ],
   "source": [
    "modele.compute_score_with_mat(L,False,True)"
   ]
  },
  {
   "cell_type": "code",
   "execution_count": 1,
   "metadata": {},
   "outputs": [
    {
     "name": "stdout",
     "output_type": "stream",
     "text": [
      "46.0\n"
     ]
    },
    {
     "data": {
      "text/plain": [
       "(46.0, [(19.0, 62.0), (29.0, 181.0), (46.0, 198.0)])"
      ]
     },
     "execution_count": 1,
     "metadata": {},
     "output_type": "execute_result"
    }
   ],
   "source": [
    "#from main import *\n",
    "from classes import  *\n",
    "from recuit_simulé_2OPT import *\n",
    "\n",
    "instancename = \"data/instexample\"\n",
    "modele=instance(instancename)\n",
    "ldistanceduree=[(17,181),(46,210),(27,191)]\n",
    "print(modele.compute_score_apartir(['1','2','3'],0,ldistanceduree))\n",
    "modele.compute_score(['1','2','3'],False,False,True)\n"
   ]
  },
  {
   "cell_type": "code",
   "execution_count": 17,
   "metadata": {},
   "outputs": [
    {
     "data": {
      "text/plain": [
       "'<generator object <genexpr> at 0x7fb417bb7cf0>'"
      ]
     },
     "execution_count": 17,
     "metadata": {},
     "output_type": "execute_result"
    }
   ],
   "source": [
    "L=[1,2,3]\n",
    "str(k) for k in L"
   ]
  },
  {
   "cell_type": "code",
   "execution_count": 25,
   "metadata": {},
   "outputs": [],
   "source": [
    "\n",
    "import numpy as np \n",
    "## from a list of list, save it in a .txt file\n",
    "def save_list(L,name):\n",
    "    with open(name,'w') as f:\n",
    "        for k in L:\n",
    "            if isinstance(k,list):\n",
    "                for u in k:\n",
    "                    f.write(str(u)+'')\n",
    "                f.write('\\n')\n",
    "            else:\n",
    "\n",
    "                f.write(str(k)+'\\n')\n",
    "\n",
    "save_list(L,'test.txt')\n",
    "\n",
    "## from a .txt file, read it and save it in a list of list\n",
    "def read_list(name):\n",
    "    L=[]\n",
    "    with open(name,'r') as f:\n",
    "        for line in f:\n",
    "            print(line)\n",
    "            L.append(line[:-1])\n",
    "    return L\n"
   ]
  },
  {
   "cell_type": "code",
   "execution_count": 29,
   "metadata": {},
   "outputs": [],
   "source": [
    "import csv\n",
    "list_of_lists=[[1,2,3]]\n",
    "with open(\"out.csv\", \"w\") as f:\n",
    "    wr = csv.writer(f)\n",
    "    wr.writerows(list_of_lists)\n",
    "\n",
    "## Get the list from a csv file:\n",
    "import csv\n",
    "\n",
    "def read_list_csv(name):\n",
    "    L=[]\n",
    "    with open(name,'r') as f:\n",
    "        reader = csv.reader(f)\n",
    "        for row in reader:\n",
    "            L.append(row)\n",
    "    return L\n",
    "\n",
    "\n",
    "\n"
   ]
  },
  {
   "cell_type": "code",
   "execution_count": 57,
   "metadata": {},
   "outputs": [
    {
     "name": "stdout",
     "output_type": "stream",
     "text": [
      "[['1' '2' '3']]\n",
      "[[1 2 3]]\n"
     ]
    }
   ],
   "source": [
    "t=read_list_csv('out.csv')\n",
    "import scipy.io\n",
    "# Put it in a list way\n",
    "L=[['1','2','3']]\n",
    "#L.totype(int)\n",
    "\n",
    "t=np.array(L)\n",
    "#print(type(t))\n",
    "print(t)\n",
    "u=t.astype(int)\n",
    "print(u)\n",
    "\n",
    "scipy.io.mmwrite('aa.mtx',u)\n",
    "\n",
    "u=scipy.io.mmread('aa.mtx')"
   ]
  },
  {
   "cell_type": "code",
   "execution_count": 59,
   "metadata": {},
   "outputs": [
    {
     "name": "stdout",
     "output_type": "stream",
     "text": [
      "[5, 2, 3]\n"
     ]
    },
    {
     "data": {
      "text/plain": [
       "array([['1', '2', '3']], dtype='<U21')"
      ]
     },
     "execution_count": 59,
     "metadata": {},
     "output_type": "execute_result"
    }
   ],
   "source": [
    "L=[1,2,3]\n",
    "def set_L(k):\n",
    "    L[0]=k\n",
    "set_L(5)\n",
    "print(L)\n",
    "u.astype(str)"
   ]
  },
  {
   "cell_type": "code",
   "execution_count": 64,
   "metadata": {},
   "outputs": [
    {
     "data": {
      "text/plain": [
       "[[1, 2, 3], [4, 5, 6], [7, 8, 9]]"
      ]
     },
     "execution_count": 64,
     "metadata": {},
     "output_type": "execute_result"
    }
   ],
   "source": [
    "L=[[1,2,3],[4,5,6],[7,8,9]]\n",
    "import json\n",
    "with open(\"test22\", \"w\") as fp:\n",
    "    json.dump(L, fp)\n",
    "\n",
    "with open(\"test22\", \"r\") as fp:\n",
    "    b = json.load(fp)\n",
    "\n",
    "b\n"
   ]
  },
  {
   "cell_type": "code",
   "execution_count": 2,
   "metadata": {},
   "outputs": [
    {
     "name": "stdout",
     "output_type": "stream",
     "text": [
      "[['1', '17', '10', '20', '18', '6', '2', '13', '7', '14', '8', '5', '21', '4', '19', '11', '9', '12', '16', '3', '15'], ['6', '20', '10', '18', '19', '11', '12', '13', '7', '14', '5', '9', '17', '21', '4', '1', '8', '15', '3', '16', '2']]\n"
     ]
    }
   ],
   "source": [
    "name='2OPTSCORENAIF_ALL_intermediaire'\n",
    "#%load_ext autoreload %autoreload 2\n",
    "from sauvegarde import * \n",
    "L=load_solution( name)\n",
    "print(L)"
   ]
  },
  {
   "cell_type": "code",
   "execution_count": 9,
   "metadata": {},
   "outputs": [
    {
     "data": {
      "image/png": "[encoded data removed]",
      "text/plain": [
       "<Figure size 432x288 with 1 Axes>"
      ]
     },
     "metadata": {},
     "output_type": "display_data"
    }
   ],
   "source": [
    "from score import *\n",
    "from classes import  *\n",
    "instancename='data/inst1'\n",
    "modele=instance(instancename)\n",
    "t=load_solution(instancename+'.sol')\n",
    "\n",
    "modele.display(u.get_ordre())\n"
   ]
  },
  {
   "cell_type": "code",
   "execution_count": null,
   "metadata": {},
   "outputs": [],
   "source": []
  },
  {
   "cell_type": "code",
   "execution_count": 16,
   "metadata": {},
   "outputs": [
    {
     "name": "stdout",
     "output_type": "stream",
     "text": [
      "début grosse computation\n",
      "avant chargement instance\n",
      "calcul pour linstance 3 la vrai \n",
      "début de la computation de kopt\n",
      "i\n",
      "on est passé par là\n",
      "en tous, on a fait pour le simulated annealing 24035  itérations le score final est 4.0\n",
      "la moyenne des différences de score est 2231.4744747243603\n",
      "on est passé par là\n",
      "en tous, on a fait pour le simulated annealing 24035  itérations le score final est 0\n",
      "la moyenne des différences de score est 2036.9442895776992\n",
      "on est passé par là\n",
      "en tous, on a fait pour le simulated annealing 24035  itérations le score final est 0\n",
      "la moyenne des différences de score est 2018.2548366964843\n",
      "on est passé par là\n",
      "en tous, on a fait pour le simulated annealing 24035  itérations le score final est 0\n",
      "la moyenne des différences de score est 2059.4350738506346\n",
      "on est passé par là\n",
      "en tous, on a fait pour le simulated annealing 24035  itérations le score final est 0\n",
      "la moyenne des différences de score est 2223.628957769919\n",
      "on est passé par là\n",
      "en tous, on a fait pour le simulated annealing 24035  itérations le score final est 3.0\n",
      "la moyenne des différences de score est 2257.957229040982\n",
      "on est passé par là\n",
      "en tous, on a fait pour le simulated annealing 24035  itérations le score final est 44.0\n",
      "la moyenne des différences de score est 2097.977366340753\n",
      "on est passé par là\n",
      "en tous, on a fait pour le simulated annealing 24035  itérations le score final est 0\n",
      "la moyenne des différences de score est 2011.9387559808613\n",
      "on est passé par là\n",
      "en tous, on a fait pour le simulated annealing 24035  itérations le score final est 0\n",
      "la moyenne des différences de score est 2047.0482629498647\n",
      "on est passé par là\n",
      "en tous, on a fait pour le simulated annealing 24035  itérations le score final est 11.0\n",
      "la moyenne des différences de score est 2092.7430830039525\n",
      "i\n",
      "on est passé par là\n",
      "en tous, on a fait pour le simulated annealing 24035  itérations le score final est 0\n",
      "la moyenne des différences de score est 2060.3169544414395\n",
      "on est passé par là\n",
      "en tous, on a fait pour le simulated annealing 24035  itérations le score final est 39.0\n",
      "la moyenne des différences de score est 2063.4537965467025\n",
      "on est passé par là\n",
      "en tous, on a fait pour le simulated annealing 24035  itérations le score final est 13.0\n",
      "la moyenne des différences de score est 2040.3950072810485\n",
      "on est passé par là\n",
      "en tous, on a fait pour le simulated annealing 24035  itérations le score final est 136.0\n",
      "la moyenne des différences de score est 1934.6589140836281\n",
      "on est passé par là\n",
      "en tous, on a fait pour le simulated annealing 24035  itérations le score final est 2.0\n",
      "la moyenne des différences de score est 2170.4654878302476\n",
      "on est passé par là\n",
      "en tous, on a fait pour le simulated annealing 24035  itérations le score final est 0\n",
      "la moyenne des différences de score est 2060.7045974620346\n",
      "on est passé par là\n",
      "en tous, on a fait pour le simulated annealing 24035  itérations le score final est 0\n",
      "la moyenne des différences de score est 2035.9462450592885\n",
      "on est passé par là\n",
      "en tous, on a fait pour le simulated annealing 24035  itérations le score final est 0\n",
      "la moyenne des différences de score est 2032.4728104847097\n",
      "on est passé par là\n",
      "en tous, on a fait pour le simulated annealing 24035  itérations le score final est 45.0\n",
      "la moyenne des différences de score est 2238.7272311212814\n",
      "on est passé par là\n",
      "en tous, on a fait pour le simulated annealing 24035  itérations le score final est 57.0\n",
      "la moyenne des différences de score est 2074.418681090077\n",
      "i\n",
      "on est passé par là\n",
      "en tous, on a fait pour le simulated annealing 24035  itérations le score final est 2.0\n",
      "la moyenne des différences de score est 2235.2441439567297\n",
      "on est passé par là\n",
      "en tous, on a fait pour le simulated annealing 24035  itérations le score final est 33.0\n",
      "la moyenne des différences de score est 2035.9347201997089\n",
      "on est passé par là\n",
      "en tous, on a fait pour le simulated annealing 24035  itérations le score final est 5.0\n",
      "la moyenne des différences de score est 2120.0128978572916\n",
      "on est passé par là\n",
      "en tous, on a fait pour le simulated annealing 24035  itérations le score final est 113.0\n",
      "la moyenne des différences de score est 2026.7261077595174\n",
      "on est passé par là\n",
      "en tous, on a fait pour le simulated annealing 24035  itérations le score final est 0\n",
      "la moyenne des différences de score est 2231.228957769919\n",
      "on est passé par là\n",
      "en tous, on a fait pour le simulated annealing 24035  itérations le score final est 39.0\n",
      "la moyenne des différences de score est 2119.64580819638\n",
      "on est passé par là\n",
      "en tous, on a fait pour le simulated annealing 24035  itérations le score final est 33.0\n",
      "la moyenne des différences de score est 2011.8585396297067\n",
      "on est passé par là\n",
      "en tous, on a fait pour le simulated annealing 24035  itérations le score final est 172.0\n",
      "la moyenne des différences de score est 1935.4654462242563\n",
      "on est passé par là\n",
      "en tous, on a fait pour le simulated annealing 24035  itérations le score final est 13.0\n",
      "la moyenne des différences de score est 2044.4808404410235\n",
      "on est passé par là\n",
      "en tous, on a fait pour le simulated annealing 24035  itérations le score final est 12.0\n",
      "la moyenne des différences de score est 2316.006157686707\n",
      "i\n",
      "on est passé par là\n",
      "en tous, on a fait pour le simulated annealing 24035  itérations le score final est 44.0\n",
      "la moyenne des différences de score est 2066.3847306012067\n",
      "on est passé par là\n",
      "en tous, on a fait pour le simulated annealing 24035  itérations le score final est 2.0\n",
      "la moyenne des différences de score est 2175.2944039941754\n",
      "on est passé par là\n",
      "en tous, on a fait pour le simulated annealing 24035  itérations le score final est 13.0\n",
      "la moyenne des différences de score est 2052.1868109007696\n",
      "on est passé par là\n",
      "en tous, on a fait pour le simulated annealing 24035  itérations le score final est 0\n",
      "la moyenne des différences de score est 2018.5012273767422\n",
      "on est passé par là\n",
      "en tous, on a fait pour le simulated annealing 24035  itérations le score final est 62.0\n",
      "la moyenne des différences de score est 2026.2810484709798\n",
      "on est passé par là\n",
      "en tous, on a fait pour le simulated annealing 24035  itérations le score final est 13.0\n",
      "la moyenne des différences de score est 1996.2881630954857\n",
      "on est passé par là\n",
      "en tous, on a fait pour le simulated annealing 24035  itérations le score final est 62.0\n",
      "la moyenne des différences de score est 2050.241023507385\n",
      "on est passé par là\n",
      "en tous, on a fait pour le simulated annealing 24035  itérations le score final est 39.0\n",
      "la moyenne des différences de score est 2051.9677553567712\n",
      "on est passé par là\n",
      "en tous, on a fait pour le simulated annealing 24035  itérations le score final est 2.0\n",
      "la moyenne des différences de score est 2149.3592677345537\n",
      "on est passé par là\n",
      "en tous, on a fait pour le simulated annealing 24035  itérations le score final est 0\n",
      "la moyenne des différences de score est 2023.3171208654046\n",
      "i\n",
      "on est passé par là\n",
      "en tous, on a fait pour le simulated annealing 24035  itérations le score final est 13.0\n",
      "la moyenne des différences de score est 2166.7581027667984\n",
      "on est passé par là\n",
      "en tous, on a fait pour le simulated annealing 24035  itérations le score final est 0\n",
      "la moyenne des différences de score est 2040.4225504472645\n",
      "on est passé par là\n",
      "en tous, on a fait pour le simulated annealing 24035  itérations le score final est 13.0\n",
      "la moyenne des différences de score est 2054.22537965467\n",
      "on est passé par là\n",
      "en tous, on a fait pour le simulated annealing 24035  itérations le score final est 13.0\n",
      "la moyenne des différences de score est 2081.4775535677136\n",
      "on est passé par là\n",
      "en tous, on a fait pour le simulated annealing 24035  itérations le score final est 0\n",
      "la moyenne des différences de score est 2100.6216351154567\n",
      "on est passé par là\n",
      "en tous, on a fait pour le simulated annealing 24035  itérations le score final est 12.0\n",
      "la moyenne des différences de score est 2105.618805908051\n",
      "on est passé par là\n",
      "en tous, on a fait pour le simulated annealing 24035  itérations le score final est 35.0\n",
      "la moyenne des différences de score est 2140.4227168712296\n",
      "on est passé par là\n",
      "en tous, on a fait pour le simulated annealing 24035  itérations le score final est 0\n",
      "la moyenne des différences de score est 2020.9532348658206\n",
      "on est passé par là\n",
      "en tous, on a fait pour le simulated annealing 24035  itérations le score final est 0\n",
      "la moyenne des différences de score est 2033.9491990846682\n",
      "on est passé par là\n",
      "en tous, on a fait pour le simulated annealing 24035  itérations le score final est 4.0\n",
      "la moyenne des différences de score est 2196.0976492614936\n",
      "i\n",
      "on est passé par là\n",
      "en tous, on a fait pour le simulated annealing 24035  itérations le score final est 44.0\n",
      "la moyenne des différences de score est 2060.267651341793\n",
      "on est passé par là\n",
      "en tous, on a fait pour le simulated annealing 24035  itérations le score final est 45.0\n",
      "la moyenne des différences de score est 2030.2674433118368\n",
      "on est passé par là\n",
      "en tous, on a fait pour le simulated annealing 24035  itérations le score final est 41.0\n",
      "la moyenne des différences de score est 2057.1832327855213\n",
      "on est passé par là\n",
      "en tous, on a fait pour le simulated annealing 24035  itérations le score final est 8.0\n",
      "la moyenne des différences de score est 2086.5406698564593\n",
      "on est passé par là\n",
      "en tous, on a fait pour le simulated annealing 24035  itérations le score final est 8.0\n",
      "la moyenne des différences de score est 2069.455585604327\n",
      "on est passé par là\n",
      "en tous, on a fait pour le simulated annealing 24035  itérations le score final est 0\n",
      "la moyenne des différences de score est 2046.8165591845225\n",
      "on est passé par là\n",
      "en tous, on a fait pour le simulated annealing 24035  itérations le score final est 11.0\n",
      "la moyenne des différences de score est 2108.7362596213857\n",
      "on est passé par là\n",
      "en tous, on a fait pour le simulated annealing 24035  itérations le score final est 12.0\n",
      "la moyenne des différences de score est 2094.723985853963\n",
      "on est passé par là\n",
      "en tous, on a fait pour le simulated annealing 24035  itérations le score final est 66.0\n",
      "la moyenne des différences de score est 2233.9935926773455\n",
      "on est passé par là\n",
      "en tous, on a fait pour le simulated annealing 24035  itérations le score final est 17.0\n",
      "la moyenne des différences de score est 2092.7585604327023\n",
      "i\n",
      "on est passé par là\n",
      "en tous, on a fait pour le simulated annealing 24035  itérations le score final est 95.0\n",
      "la moyenne des différences de score est 1979.3074266694405\n",
      "on est passé par là\n",
      "en tous, on a fait pour le simulated annealing 24035  itérations le score final est 0\n",
      "la moyenne des différences de score est 2040.651466611192\n",
      "on est passé par là\n",
      "en tous, on a fait pour le simulated annealing 24035  itérations le score final est 13.0\n",
      "la moyenne des différences de score est 2039.3192011649678\n",
      "on est passé par là\n",
      "en tous, on a fait pour le simulated annealing 24035  itérations le score final est 79.0\n",
      "la moyenne des différences de score est 2025.7492822966508\n",
      "on est passé par là\n",
      "en tous, on a fait pour le simulated annealing 24035  itérations le score final est 7.0\n",
      "la moyenne des différences de score est 2102.413272311213\n",
      "on est passé par là\n",
      "en tous, on a fait pour le simulated annealing 24035  itérations le score final est 13.0\n",
      "la moyenne des différences de score est 2171.0638651965883\n",
      "on est passé par là\n",
      "en tous, on a fait pour le simulated annealing 24035  itérations le score final est 0\n",
      "la moyenne des différences de score est 2036.4228416892033\n",
      "on est passé par là\n",
      "en tous, on a fait pour le simulated annealing 24035  itérations le score final est 136.0\n",
      "la moyenne des différences de score est 1912.367214478885\n",
      "on est passé par là\n",
      "en tous, on a fait pour le simulated annealing 24035  itérations le score final est 12.0\n",
      "la moyenne des différences de score est 2087.629290617849\n",
      "on est passé par là\n",
      "en tous, on a fait pour le simulated annealing 24035  itérations le score final est 0\n",
      "la moyenne des différences de score est 2043.6276679841897\n",
      "i\n",
      "on est passé par là\n",
      "en tous, on a fait pour le simulated annealing 24035  itérations le score final est 39.0\n",
      "la moyenne des différences de score est 2036.5126690243394\n",
      "on est passé par là\n",
      "en tous, on a fait pour le simulated annealing 24035  itérations le score final est 13.0\n",
      "la moyenne des différences de score est 2034.4480133139173\n",
      "on est passé par là\n",
      "en tous, on a fait pour le simulated annealing 24035  itérations le score final est 52.0\n",
      "la moyenne des différences de score est 2103.3364260453504\n",
      "on est passé par là\n",
      "en tous, on a fait pour le simulated annealing 24035  itérations le score final est 42.0\n",
      "la moyenne des différences de score est 2204.7435406698564\n",
      "on est passé par là\n",
      "en tous, on a fait pour le simulated annealing 24035  itérations le score final est 163.0\n",
      "la moyenne des différences de score est 1972.7495319325983\n",
      "on est passé par là\n",
      "en tous, on a fait pour le simulated annealing 24035  itérations le score final est 61.0\n",
      "la moyenne des différences de score est 2014.0364884543374\n",
      "on est passé par là\n",
      "en tous, on a fait pour le simulated annealing 24035  itérations le score final est 2.0\n",
      "la moyenne des différences de score est 2240.863781984606\n",
      "on est passé par là\n",
      "en tous, on a fait pour le simulated annealing 24035  itérations le score final est 46.0\n",
      "la moyenne des différences de score est 2095.662117744955\n",
      "on est passé par là\n",
      "en tous, on a fait pour le simulated annealing 24035  itérations le score final est 13.0\n",
      "la moyenne des différences de score est 2036.4197212398585\n",
      "on est passé par là\n",
      "en tous, on a fait pour le simulated annealing 24035  itérations le score final est 0\n",
      "la moyenne des différences de score est 2217.665529436239\n",
      "i\n",
      "on est passé par là\n",
      "en tous, on a fait pour le simulated annealing 24035  itérations le score final est 6.0\n",
      "la moyenne des différences de score est 2110.850884127314\n",
      "on est passé par là\n",
      "en tous, on a fait pour le simulated annealing 24035  itérations le score final est 0\n",
      "la moyenne des différences de score est 2061.9489078427296\n",
      "on est passé par là\n",
      "en tous, on a fait pour le simulated annealing 24035  itérations le score final est 39.0\n",
      "la moyenne des différences de score est 2061.283461618473\n",
      "on est passé par là\n",
      "en tous, on a fait pour le simulated annealing 24035  itérations le score final est 0\n",
      "la moyenne des différences de score est 2042.7163303515706\n",
      "on est passé par là\n",
      "en tous, on a fait pour le simulated annealing 24035  itérations le score final est 0\n",
      "la moyenne des différences de score est 2038.6393592677346\n",
      "on est passé par là\n",
      "en tous, on a fait pour le simulated annealing 24035  itérations le score final est 39.0\n",
      "la moyenne des différences de score est 2057.407655502392\n",
      "on est passé par là\n",
      "en tous, on a fait pour le simulated annealing 24035  itérations le score final est 4.0\n",
      "la moyenne des différences de score est 2235.5144164759727\n",
      "on est passé par là\n",
      "en tous, on a fait pour le simulated annealing 24035  itérations le score final est 43.0\n",
      "la moyenne des différences de score est 2113.903557312253\n",
      "on est passé par là\n",
      "en tous, on a fait pour le simulated annealing 24035  itérations le score final est 12.0\n",
      "la moyenne des différences de score est 2072.3801539421675\n",
      "on est passé par là\n",
      "en tous, on a fait pour le simulated annealing 24035  itérations le score final est 12.0\n",
      "la moyenne des différences de score est 2090.6957353858957\n",
      "i\n",
      "on est passé par là\n",
      "en tous, on a fait pour le simulated annealing 24035  itérations le score final est 12.0\n",
      "la moyenne des différences de score est 2110.7345121697526\n",
      "on est passé par là\n",
      "en tous, on a fait pour le simulated annealing 24035  itérations le score final est 16.0\n",
      "la moyenne des différences de score est 2211.817432910339\n",
      "on est passé par là\n",
      "en tous, on a fait pour le simulated annealing 24035  itérations le score final est 13.0\n",
      "la moyenne des différences de score est 2016.2371541501977\n",
      "on est passé par là\n",
      "en tous, on a fait pour le simulated annealing 24035  itérations le score final est 0\n",
      "la moyenne des différences de score est 2232.630247555648\n",
      "on est passé par là\n",
      "en tous, on a fait pour le simulated annealing 24035  itérations le score final est 0\n",
      "la moyenne des différences de score est 2042.1906802579572\n",
      "on est passé par là\n",
      "en tous, on a fait pour le simulated annealing 24035  itérations le score final est 159.0\n",
      "la moyenne des différences de score est 2019.3440399417516\n",
      "on est passé par là\n",
      "en tous, on a fait pour le simulated annealing 24035  itérations le score final est 0\n",
      "la moyenne des différences de score est 2025.941710006241\n",
      "on est passé par là\n",
      "en tous, on a fait pour le simulated annealing 24035  itérations le score final est 0\n",
      "la moyenne des différences de score est 2013.597295610568\n",
      "on est passé par là\n",
      "en tous, on a fait pour le simulated annealing 24035  itérations le score final est 12.0\n",
      "la moyenne des différences de score est 2093.155980861244\n",
      "on est passé par là\n",
      "en tous, on a fait pour le simulated annealing 24035  itérations le score final est 13.0\n",
      "la moyenne des différences de score est 2053.2802995631373\n",
      "fin des itérations\n",
      "fin de la sauvegarde\n",
      "début de plot des solutions MOYENNES\n"
     ]
    },
    {
     "ename": "KeyError",
     "evalue": "'0'",
     "output_type": "error",
     "traceback": [
      "\u001b[0;31m---------------------------------------------------------------------------\u001b[0m",
      "\u001b[0;31mKeyError\u001b[0m                                  Traceback (most recent call last)",
      "\u001b[1;32m/Users/pierrickbournez/Documents/travail/Centrale/parcours_recherche/electif/info_2/code/poubelle.ipynb Cellule 12\u001b[0m in \u001b[0;36m<module>\u001b[0;34m\u001b[0m\n\u001b[1;32m     <a href='vscode-notebook-cell:/Users/pierrickbournez/Documents/travail/Centrale/parcours_recherche/electif/info_2/code/poubelle.ipynb#X14sZmlsZQ%3D%3D?line=16'>17</a>\u001b[0m sol_start \u001b[39m=\u001b[39m solution_par_wstart(instancename)\n\u001b[1;32m     <a href='vscode-notebook-cell:/Users/pierrickbournez/Documents/travail/Centrale/parcours_recherche/electif/info_2/code/poubelle.ipynb#X14sZmlsZQ%3D%3D?line=18'>19</a>\u001b[0m compute_kopt(modele, n, score_retard, sol_wend,\n\u001b[1;32m     <a href='vscode-notebook-cell:/Users/pierrickbournez/Documents/travail/Centrale/parcours_recherche/electif/info_2/code/poubelle.ipynb#X14sZmlsZQ%3D%3D?line=19'>20</a>\u001b[0m                 \u001b[39m0.999\u001b[39m, \u001b[39m-\u001b[39m\u001b[39m1\u001b[39m, \u001b[39m2\u001b[39m, \u001b[39m3\u001b[39m, nom1, Tsup, \u001b[39m10\u001b[39m\u001b[39m*\u001b[39m\u001b[39m*\u001b[39m\u001b[39m-\u001b[39m\u001b[39m7\u001b[39m, \u001b[39m-\u001b[39m\u001b[39m1\u001b[39m)\n\u001b[0;32m---> <a href='vscode-notebook-cell:/Users/pierrickbournez/Documents/travail/Centrale/parcours_recherche/electif/info_2/code/poubelle.ipynb#X14sZmlsZQ%3D%3D?line=21'>22</a>\u001b[0m plot_solution_ALL_intermediaireMOYENNNE(\n\u001b[1;32m     <a href='vscode-notebook-cell:/Users/pierrickbournez/Documents/travail/Centrale/parcours_recherche/electif/info_2/code/poubelle.ipynb#X14sZmlsZQ%3D%3D?line=22'>23</a>\u001b[0m         score_retard, modele, nom1, nom2, \u001b[39m-\u001b[39;49m\u001b[39m1\u001b[39;49m)\n",
      "File \u001b[0;32m~/Documents/travail/Centrale/parcours_recherche/electif/info_2/code/plot.py:120\u001b[0m, in \u001b[0;36mplot_solution_ALL_intermediaireMOYENNNE\u001b[0;34m(score, modele, namsol, namesauvegarde, particulier)\u001b[0m\n\u001b[1;32m    118\u001b[0m Y \u001b[39m=\u001b[39m []\n\u001b[1;32m    119\u001b[0m \u001b[39mfor\u001b[39;00m listsol \u001b[39min\u001b[39;00m listnvsol:\n\u001b[0;32m--> 120\u001b[0m     Y\u001b[39m.\u001b[39mappend([score(modele, sol) \u001b[39mfor\u001b[39;00m sol \u001b[39min\u001b[39;00m listsol])\n\u001b[1;32m    121\u001b[0m X \u001b[39m=\u001b[39m [k \u001b[39mfor\u001b[39;00m k \u001b[39min\u001b[39;00m \u001b[39mrange\u001b[39m(\u001b[39mlen\u001b[39m(listnvsol[\u001b[39m0\u001b[39m]))]\n\u001b[1;32m    122\u001b[0m \u001b[39m# * On fait la moyenne\u001b[39;00m\n",
      "File \u001b[0;32m~/Documents/travail/Centrale/parcours_recherche/electif/info_2/code/plot.py:120\u001b[0m, in \u001b[0;36m<listcomp>\u001b[0;34m(.0)\u001b[0m\n\u001b[1;32m    118\u001b[0m Y \u001b[39m=\u001b[39m []\n\u001b[1;32m    119\u001b[0m \u001b[39mfor\u001b[39;00m listsol \u001b[39min\u001b[39;00m listnvsol:\n\u001b[0;32m--> 120\u001b[0m     Y\u001b[39m.\u001b[39mappend([score(modele, sol) \u001b[39mfor\u001b[39;00m sol \u001b[39min\u001b[39;00m listsol])\n\u001b[1;32m    121\u001b[0m X \u001b[39m=\u001b[39m [k \u001b[39mfor\u001b[39;00m k \u001b[39min\u001b[39;00m \u001b[39mrange\u001b[39m(\u001b[39mlen\u001b[39m(listnvsol[\u001b[39m0\u001b[39m]))]\n\u001b[1;32m    122\u001b[0m \u001b[39m# * On fait la moyenne\u001b[39;00m\n",
      "File \u001b[0;32m~/Documents/travail/Centrale/parcours_recherche/electif/info_2/code/desscore.py:21\u001b[0m, in \u001b[0;36mscore_retard\u001b[0;34m(modele, sol)\u001b[0m\n\u001b[1;32m     19\u001b[0m     retard \u001b[39m=\u001b[39m modele\u001b[39m.\u001b[39mcompute_score_somme_retards(sol, \u001b[39m0\u001b[39m)\n\u001b[1;32m     20\u001b[0m \u001b[39melse\u001b[39;00m:\n\u001b[0;32m---> 21\u001b[0m     retard \u001b[39m=\u001b[39m modele\u001b[39m.\u001b[39;49mcompute_score_somme_retards(sol, \u001b[39m0\u001b[39;49m)\n\u001b[1;32m     23\u001b[0m \u001b[39mreturn\u001b[39;00m retard\n",
      "File \u001b[0;32m~/Documents/travail/Centrale/parcours_recherche/electif/info_2/code/classes.py:102\u001b[0m, in \u001b[0;36minstance.compute_score_somme_retards\u001b[0;34m(self, sol_list, demarrage, listedistanceduree, debug, listecomplete, tolerance)\u001b[0m\n\u001b[1;32m    100\u001b[0m \u001b[39m# ! la durée est la somme des distances entre les points\u001b[39;00m\n\u001b[1;32m    101\u001b[0m duree \u001b[39m+\u001b[39m\u001b[39m=\u001b[39m \u001b[39mself\u001b[39m\u001b[39m.\u001b[39mdist_mat[\u001b[39mint\u001b[39m(sol_list[i]), \u001b[39mint\u001b[39m(sol_list[i\u001b[39m+\u001b[39m\u001b[39m1\u001b[39m])]\n\u001b[0;32m--> 102\u001b[0m next_start \u001b[39m=\u001b[39m \u001b[39mself\u001b[39;49m\u001b[39m.\u001b[39;49mtravail[sol_list[i\u001b[39m+\u001b[39;49m\u001b[39m1\u001b[39;49m]][\u001b[39m\"\u001b[39m\u001b[39mwstart\u001b[39m\u001b[39m\"\u001b[39m]\n\u001b[1;32m    103\u001b[0m end_window \u001b[39m=\u001b[39m \u001b[39mself\u001b[39m\u001b[39m.\u001b[39mtravail[sol_list[i\u001b[39m+\u001b[39m\u001b[39m1\u001b[39m]][\u001b[39m\"\u001b[39m\u001b[39mwend\u001b[39m\u001b[39m\"\u001b[39m]\n\u001b[1;32m    104\u001b[0m \u001b[39mif\u001b[39;00m (duree \u001b[39m<\u001b[39m next_start):\n",
      "\u001b[0;31mKeyError\u001b[0m: '0'"
     ]
    },
    {
     "data": {
      "text/plain": [
       "<Figure size 432x288 with 0 Axes>"
      ]
     },
     "metadata": {},
     "output_type": "display_data"
    }
   ],
   "source": [
    "from debuggage import  *\n",
    "from plot import * \n",
    "from construction_solution import * \n",
    "n = 100\n",
    "#Tsup = -log(0.5)*4000\n",
    "print('début grosse computation')\n",
    "#print(Tsup)\n",
    "from math import log \n",
    "instancename = \"data/inst1\"\n",
    "print('avant chargement instance')\n",
    "modele = instance(instancename)\n",
    "print('calcul pour linstance 3 la vrai ')\n",
    "nom1 = '3OPTSOLINSTWEND1'\n",
    "nom2 = 'plot3OPTSOLWEND1'\n",
    "Tsup = -log(0.5)*4000\n",
    "sol_wend = solution_par_wend(instancename)\n",
    "sol_start = solution_par_wstart(instancename)\n",
    "\n",
    "compute_kopt(modele, n, score_retard, sol_wend,\n",
    "                0.999, -1, 2, 3, nom1, Tsup, 10**-7, -1)\n",
    "\n",
    "plot_solution_ALL_intermediaireMOYENNNE(\n",
    "        score_retard, modele, nom1, nom2, -1)"
   ]
  }
 ],
 "metadata": {
  "kernelspec": {
   "display_name": "Python 3",
   "language": "python",
   "name": "python3"
  },
  "language_info": {
   "codemirror_mode": {
    "name": "ipython",
    "version": 3
   },
   "file_extension": ".py",
   "mimetype": "text/x-python",
   "name": "python",
   "nbconvert_exporter": "python",
   "pygments_lexer": "ipython3",
   "version": "3.9.7"
  },
  "orig_nbformat": 4,
  "vscode": {
   "interpreter": {
    "hash": "7812ea015bdcee6f23a998adcdd2ef97c151c0c241b7b7070987d9313e41299d"
   }
  }
 },
 "nbformat": 4,
 "nbformat_minor": 2
}
